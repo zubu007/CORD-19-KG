{
 "cells": [
  {
   "cell_type": "code",
   "execution_count": 1,
   "metadata": {},
   "outputs": [],
   "source": [
    "import json\n",
    "import os\n",
    "from tqdm import tqdm"
   ]
  },
  {
   "cell_type": "code",
   "execution_count": 2,
   "metadata": {},
   "outputs": [
    {
     "data": {
      "text/plain": [
       "(401212, 315742)"
      ]
     },
     "execution_count": 2,
     "metadata": {},
     "output_type": "execute_result"
    }
   ],
   "source": [
    "pdfs = os.listdir('document_parses/pdf_json')\n",
    "pmcs = os.listdir('document_parses/pmc_json')\n",
    "\n",
    "len(pdfs), len(pmcs)"
   ]
  },
  {
   "cell_type": "code",
   "execution_count": 36,
   "metadata": {},
   "outputs": [
    {
     "name": "stderr",
     "output_type": "stream",
     "text": [
      "100%|██████████| 401212/401212 [1:09:01<00:00, 96.88it/s] \n",
      "100%|██████████| 315742/315742 [50:27<00:00, 104.30it/s] \n"
     ]
    }
   ],
   "source": [
    "paper_entries = {}\n",
    "for pdf in tqdm(pdfs):\n",
    "    with open(f'document_parses/pdf_json/{pdf}') as f:\n",
    "        data = json.load(f)\n",
    "        title = data['metadata']['title']\n",
    "        refs = data['bib_entries']\n",
    "        ref_titles = [refs[ref]['title'] for ref in refs]\n",
    "\n",
    "        paper_entries[title] = ref_titles\n",
    "\n",
    "for pmc in tqdm(pmcs):\n",
    "    with open(f'document_parses/pmc_json/{pmc}') as f:\n",
    "        data = json.load(f)\n",
    "        title = data['metadata']['title']\n",
    "        refs = data['bib_entries']\n",
    "        ref_titles = [refs[ref]['title'] for ref in refs]\n",
    "\n",
    "        paper_entries[title] = ref_titles\n",
    "# write to file\n",
    "with open('paper_entries.json', 'w') as f:\n",
    "    json.dump(paper_entries, f)\n",
    "\n"
   ]
  },
  {
   "cell_type": "code",
   "execution_count": 2,
   "metadata": {},
   "outputs": [],
   "source": [
    "# load the json file\n",
    "with open('paper_entries.json') as f:\n",
    "    paper_entries = json.load(f)"
   ]
  },
  {
   "cell_type": "code",
   "execution_count": 4,
   "metadata": {},
   "outputs": [],
   "source": [
    "paper_entries = list(paper_entries.items())\n"
   ]
  },
  {
   "cell_type": "code",
   "execution_count": 20,
   "metadata": {},
   "outputs": [],
   "source": [
    "# remove the spaces and make it lowercase of the 2nd element of the tuple\n",
    "def clean_title(title):\n",
    "    return title.replace(' ', '').lower().replace(':', '').replace('.', '').replace(',', '').replace(';', '').replace('(', '').replace(')', '').replace('?', '').replace('!', '').replace('-', '').replace('/', '').replace('\\\\', '').replace('\\'', '').replace('\\\"', '').replace('*','')\n",
    "\n",
    "paper_entries = [(clean_title(title), refs) for title, refs in paper_entries]\n"
   ]
  },
  {
   "cell_type": "code",
   "execution_count": 23,
   "metadata": {},
   "outputs": [
    {
     "data": {
      "text/plain": [
       "(1, 'networkreconstructionandcommunitydetectionfromdynamics')"
      ]
     },
     "execution_count": 23,
     "metadata": {},
     "output_type": "execute_result"
    }
   ],
   "source": [
    "query = 'networkreconstructionandcommunitydetectionfromdynamics'\n",
    "\n",
    "# search the query in the titles\n",
    "def search(query):\n",
    "    query = clean_title(query)\n",
    "    results = []\n",
    "    for title, refs in paper_entries:\n",
    "        if query in title:\n",
    "            results.append((title, refs))\n",
    "    return results\n",
    "\n",
    "results = search(query)\n",
    "len(results), results[0][0]"
   ]
  },
  {
   "cell_type": "markdown",
   "metadata": {},
   "source": [
    "### Sentiment analysis"
   ]
  },
  {
   "cell_type": "code",
   "execution_count": 32,
   "metadata": {},
   "outputs": [
    {
     "name": "stdout",
     "output_type": "stream",
     "text": [
      "Text: I love this product! It works wonderfully.\n",
      "Sentiment: POSITIVE, Confidence: 1.00\n",
      "\n",
      "Text: This is the worst experience I've ever had.\n",
      "Sentiment: NEGATIVE, Confidence: 1.00\n",
      "\n"
     ]
    }
   ],
   "source": [
    "from transformers import pipeline\n",
    "\n",
    "# Load a sentiment-analysis pipeline\n",
    "classifier = pipeline('sentiment-analysis', model= 'distilbert-base-uncased-finetuned-sst-2-english')\n",
    "\n",
    "# Example texts\n",
    "texts = [\n",
    "    \"I love this product! It works wonderfully.\",\n",
    "    \"This is the worst experience I've ever had.\"\n",
    "]\n",
    "\n",
    "# Classify sentiment\n",
    "results = classifier(texts)\n",
    "\n",
    "# Display results\n",
    "for text, result in zip(texts, results):\n",
    "    print(f\"Text: {text}\\nSentiment: {result['label']}, Confidence: {result['score']:.2f}\\n\")\n"
   ]
  },
  {
   "cell_type": "code",
   "execution_count": 33,
   "metadata": {},
   "outputs": [
    {
     "data": {
      "text/plain": [
       "[{'label': 'POSITIVE', 'score': 0.9998823404312134},\n",
       " {'label': 'NEGATIVE', 'score': 0.9997679591178894}]"
      ]
     },
     "execution_count": 33,
     "metadata": {},
     "output_type": "execute_result"
    }
   ],
   "source": [
    "# text = ' this is a neural statement'\n",
    "# results = classifier(text)\n",
    "results"
   ]
  },
  {
   "cell_type": "code",
   "execution_count": null,
   "metadata": {},
   "outputs": [],
   "source": []
  },
  {
   "cell_type": "code",
   "execution_count": 30,
   "metadata": {},
   "outputs": [
    {
     "name": "stderr",
     "output_type": "stream",
     "text": [
      "h:\\sajid\\.conda\\Lib\\site-packages\\huggingface_hub\\file_download.py:147: UserWarning: `huggingface_hub` cache-system uses symlinks by default to efficiently store duplicated files but your machine does not support them in C:\\Users\\zubay\\.cache\\huggingface\\hub\\models--nlptown--bert-base-multilingual-uncased-sentiment. Caching files will still work but in a degraded version that might require more space on your disk. This warning can be disabled by setting the `HF_HUB_DISABLE_SYMLINKS_WARNING` environment variable. For more details, see https://huggingface.co/docs/huggingface_hub/how-to-cache#limitations.\n",
      "To support symlinks on Windows, you either need to activate Developer Mode or to run Python as an administrator. In order to activate developer mode, see this article: https://docs.microsoft.com/en-us/windows/apps/get-started/enable-your-device-for-development\n",
      "  warnings.warn(message)\n"
     ]
    },
    {
     "name": "stdout",
     "output_type": "stream",
     "text": [
      "Text: I absolutely love this!\n",
      "Sentiment (0-1): 1.00, Original label: 5 stars\n",
      "\n",
      "Text: This is terrible.\n",
      "Sentiment (0-1): 0.00, Original label: 1 star\n",
      "\n",
      "Text: The product was okay, not great.\n",
      "Sentiment (0-1): 0.50, Original label: 3 stars\n",
      "\n"
     ]
    }
   ],
   "source": [
    "from transformers import pipeline\n",
    "\n",
    "# Load the multilingual sentiment model\n",
    "classifier = pipeline('sentiment-analysis', model=\"nlptown/bert-base-multilingual-uncased-sentiment\")\n",
    "\n",
    "# Example texts\n",
    "texts = [\n",
    "    \"I absolutely love this!\",\n",
    "    \"This is terrible.\",\n",
    "    \"The product was okay, not great.\"\n",
    "]\n",
    "\n",
    "# Classify sentiment and normalize the scores to the [0, 1] range\n",
    "results = classifier(texts)\n",
    "\n",
    "# Normalize from 1-5 scale to 0-1 scale (subtract 1 and divide by 4)\n",
    "def normalize_sentiment(score):\n",
    "    return (score - 1) / 4\n",
    "\n",
    "# Display results with normalized sentiment values\n",
    "for text, result in zip(texts, results):\n",
    "    label = result['label']  # e.g., '1 star', '5 stars'\n",
    "    stars = int(label.split()[0])  # Extract star rating\n",
    "    normalized_score = normalize_sentiment(stars)  # Convert to 0-1 scale\n",
    "    print(f\"Text: {text}\\nSentiment (0-1): {normalized_score:.2f}, Original label: {label}\\n\")\n"
   ]
  },
  {
   "cell_type": "code",
   "execution_count": 31,
   "metadata": {},
   "outputs": [
    {
     "data": {
      "text/plain": [
       "[{'label': '5 stars', 'score': 0.9676192998886108},\n",
       " {'label': '1 star', 'score': 0.930989146232605},\n",
       " {'label': '3 stars', 'score': 0.7260130643844604}]"
      ]
     },
     "execution_count": 31,
     "metadata": {},
     "output_type": "execute_result"
    }
   ],
   "source": [
    "results"
   ]
  },
  {
   "cell_type": "code",
   "execution_count": 34,
   "metadata": {},
   "outputs": [
    {
     "name": "stderr",
     "output_type": "stream",
     "text": [
      "h:\\sajid\\.conda\\Lib\\site-packages\\huggingface_hub\\file_download.py:147: UserWarning: `huggingface_hub` cache-system uses symlinks by default to efficiently store duplicated files but your machine does not support them in C:\\Users\\zubay\\.cache\\huggingface\\hub\\models--lxyuan--distilbert-base-multilingual-cased-sentiments-student. Caching files will still work but in a degraded version that might require more space on your disk. This warning can be disabled by setting the `HF_HUB_DISABLE_SYMLINKS_WARNING` environment variable. For more details, see https://huggingface.co/docs/huggingface_hub/how-to-cache#limitations.\n",
      "To support symlinks on Windows, you either need to activate Developer Mode or to run Python as an administrator. In order to activate developer mode, see this article: https://docs.microsoft.com/en-us/windows/apps/get-started/enable-your-device-for-development\n",
      "  warnings.warn(message)\n"
     ]
    }
   ],
   "source": [
    "from transformers import pipeline\n",
    "\n",
    "# Load the multilingual sentiment model\n",
    "classifier = pipeline('sentiment-analysis', model=\"lxyuan/distilbert-base-multilingual-cased-sentiments-student\")\n",
    "\n",
    "# Example texts\n",
    "texts = [\n",
    "    \"I absolutely love this!\",\n",
    "    \"This is terrible.\",\n",
    "    \"The product was okay, not great.\"\n",
    "]\n",
    "\n",
    "# Classify sentiment and normalize the scores to the [0, 1] range\n",
    "results = classifier(texts)\n",
    "\n"
   ]
  },
  {
   "cell_type": "code",
   "execution_count": 37,
   "metadata": {},
   "outputs": [
    {
     "data": {
      "text/plain": [
       "[{'label': 'negative', 'score': 0.6789236068725586}]"
      ]
     },
     "execution_count": 37,
     "metadata": {},
     "output_type": "execute_result"
    }
   ],
   "source": [
    "text = 'Mental health and physical health should not be considered independently in competitive sports: mental health issues can influence performance, increase the risk of physical injuries and prolong rehabilitation. Injuries, in turn, may affect performance and constitute stress and risk for mental health [1] . Worry, anxiety and psychological stress are also risks to mental health and are associated with the occurrence of psychiatric disorders. Additionally, chronic stress plays an important role in the pathogenesis of anxiety and depression [18] . The COVID-19 pandemic is in itself a stressful situation (fear of getting infected or losing loved ones). Together with the impact of lockdown measures on everyday life it poses a risk to mental health [19] .'\n",
    "results = classifier(text)\n",
    "results"
   ]
  },
  {
   "cell_type": "code",
   "execution_count": null,
   "metadata": {},
   "outputs": [],
   "source": [
    "# get the first entry\n",
    "queries = paper_entries[list(paper_entries.keys())[45]]\n",
    "for query in queries:\n",
    "    # search for the query in the titles\n",
    "    for title in paper_entries.keys():\n",
    "        if query in title:\n",
    "            print(title)\n"
   ]
  },
  {
   "cell_type": "code",
   "execution_count": 7,
   "metadata": {},
   "outputs": [
    {
     "name": "stderr",
     "output_type": "stream",
     "text": [
      "  1%|          | 3196/504801 [30:06<78:46:12,  1.77it/s] \n"
     ]
    },
    {
     "ename": "KeyboardInterrupt",
     "evalue": "",
     "output_type": "error",
     "traceback": [
      "\u001b[1;31m---------------------------------------------------------------------------\u001b[0m",
      "\u001b[1;31mKeyboardInterrupt\u001b[0m                         Traceback (most recent call last)",
      "Cell \u001b[1;32mIn[7], line 9\u001b[0m\n\u001b[0;32m      6\u001b[0m     \u001b[38;5;28;01mfor\u001b[39;00m key \u001b[38;5;129;01min\u001b[39;00m tqdm(paper_entries\u001b[38;5;241m.\u001b[39mkeys()):\n\u001b[0;32m      7\u001b[0m         \u001b[38;5;28;01mfor\u001b[39;00m i, query \u001b[38;5;129;01min\u001b[39;00m \u001b[38;5;28menumerate\u001b[39m(paper_entries[key]):\n\u001b[0;32m      8\u001b[0m             \u001b[38;5;66;03m# search for the query in the titles\u001b[39;00m\n\u001b[1;32m----> 9\u001b[0m             KG \u001b[38;5;241m+\u001b[39m\u001b[38;5;241m=\u001b[39m \u001b[38;5;124mf\u001b[39m\u001b[38;5;124m'\u001b[39m\u001b[38;5;124m\"\u001b[39m\u001b[38;5;132;01m{\u001b[39;00mkey\u001b[38;5;132;01m}\u001b[39;00m\u001b[38;5;124m\"\u001b[39m\u001b[38;5;124m,\u001b[39m\u001b[38;5;124m\"\u001b[39m\u001b[38;5;124mBIBREF\u001b[39m\u001b[38;5;132;01m{\u001b[39;00mi\u001b[38;5;132;01m}\u001b[39;00m\u001b[38;5;124m\"\u001b[39m\u001b[38;5;124m,\u001b[39m\u001b[38;5;124m\"\u001b[39m\u001b[38;5;132;01m{\u001b[39;00mquery\u001b[38;5;132;01m}\u001b[39;00m\u001b[38;5;124m\"\u001b[39m\u001b[38;5;130;01m\\n\u001b[39;00m\u001b[38;5;124m'\u001b[39m\n\u001b[0;32m     11\u001b[0m \u001b[38;5;28;01mwith\u001b[39;00m \u001b[38;5;28mopen\u001b[39m(\u001b[38;5;124m'\u001b[39m\u001b[38;5;124mKG.txt\u001b[39m\u001b[38;5;124m'\u001b[39m, \u001b[38;5;124m'\u001b[39m\u001b[38;5;124mw\u001b[39m\u001b[38;5;124m'\u001b[39m) \u001b[38;5;28;01mas\u001b[39;00m f:\n\u001b[0;32m     12\u001b[0m     f\u001b[38;5;241m.\u001b[39mwrite(KG)\n",
      "\u001b[1;31mKeyboardInterrupt\u001b[0m: "
     ]
    }
   ],
   "source": [
    "# As this is a lot of data, we need to take it in chunks of 10000\n",
    "# load the json file\n",
    "KG = ''\n",
    "with open('paper_entries.json') as f:\n",
    "    paper_entries = json.load(f)\n",
    "    # iterate over the keys\n",
    "    with open('KG.txt', 'a') as f:\n",
    "        for key in tqdm(paper_entries.keys()[:10000]):\n",
    "            for i, query in enumerate(paper_entries[key]):\n",
    "                f.write(f'\"{key}\",\"BIBREF{i}\",\"{query}\"\\n')\n",
    "        \n",
    "\n",
    "# Done till: 0   <--- Update this number to the last number you did\n",
    "\n"
   ]
  },
  {
   "cell_type": "code",
   "execution_count": 9,
   "metadata": {},
   "outputs": [],
   "source": [
    "with open('KG.txt', 'w') as f:\n",
    "    f.write(KG)"
   ]
  },
  {
   "cell_type": "markdown",
   "metadata": {},
   "source": [
    "## Starting the Topics Knowledge graph."
   ]
  },
  {
   "cell_type": "code",
   "execution_count": 3,
   "metadata": {},
   "outputs": [],
   "source": [
    "import json\n",
    "import pandas as pd\n",
    "import numpy as np\n",
    "from tqdm import tqdm"
   ]
  },
  {
   "cell_type": "code",
   "execution_count": 39,
   "metadata": {},
   "outputs": [],
   "source": [
    "title_to_paper_file = './Data/Data/title_to_paper_map.json'\n",
    "topic_nodes_file = './Data/Data/nodes/topic_nodes.csv'\n",
    "paper_to_topic_file = './Data/Data/edges/paper_to_topic.csv'\n",
    "\n",
    "# Load the title to paper map\n",
    "with open(title_to_paper_file) as f:\n",
    "    title_to_paper = json.load(f)\n",
    "\n",
    "# convert the json to a pandas dataframe\n",
    "title_to_paper = pd.DataFrame(title_to_paper.items(), columns=['title', 'paper_id'])\n",
    "\n",
    "# Load the topic nodes\n",
    "topic_nodes = pd.read_csv(topic_nodes_file)\n",
    "\n",
    "# Load the paper to topic edges\n",
    "paper_to_topic = pd.read_csv(paper_to_topic_file)"
   ]
  },
  {
   "cell_type": "code",
   "execution_count": 43,
   "metadata": {},
   "outputs": [
    {
     "data": {
      "text/html": [
       "<div>\n",
       "<style scoped>\n",
       "    .dataframe tbody tr th:only-of-type {\n",
       "        vertical-align: middle;\n",
       "    }\n",
       "\n",
       "    .dataframe tbody tr th {\n",
       "        vertical-align: top;\n",
       "    }\n",
       "\n",
       "    .dataframe thead th {\n",
       "        text-align: right;\n",
       "    }\n",
       "</style>\n",
       "<table border=\"1\" class=\"dataframe\">\n",
       "  <thead>\n",
       "    <tr style=\"text-align: right;\">\n",
       "      <th></th>\n",
       "      <th>~id</th>\n",
       "      <th>~label</th>\n",
       "      <th>~from</th>\n",
       "      <th>~to</th>\n",
       "      <th>score:Float</th>\n",
       "    </tr>\n",
       "  </thead>\n",
       "  <tbody>\n",
       "    <tr>\n",
       "      <th>0</th>\n",
       "      <td>c5a84fb7-7e2b-49f2-b744-ed841595b5dc</td>\n",
       "      <td>associated_topic</td>\n",
       "      <td>b2d29ec4-caa3-438a-897c-445f5b8c1314</td>\n",
       "      <td>ed0fbd02-ccff-4e13-8381-e44708494382</td>\n",
       "      <td>1.0000</td>\n",
       "    </tr>\n",
       "    <tr>\n",
       "      <th>1</th>\n",
       "      <td>7bbf3f41-d087-48ee-b5bd-9ef748a8f5db</td>\n",
       "      <td>associated_topic</td>\n",
       "      <td>01c20e5d-f3e2-42bf-bd58-bbac101316d0</td>\n",
       "      <td>009368ed-d4d2-4b87-908d-42529c39dbf3</td>\n",
       "      <td>0.9540</td>\n",
       "    </tr>\n",
       "    <tr>\n",
       "      <th>2</th>\n",
       "      <td>a1ff3f90-cbcc-4ef6-a5fa-3fe28365ece2</td>\n",
       "      <td>associated_topic</td>\n",
       "      <td>d42ae2ea-559d-4832-895a-9c46bb00f3ba</td>\n",
       "      <td>ddc3abdc-82ad-4c4b-b87c-07f54d8d5dc9</td>\n",
       "      <td>0.9927</td>\n",
       "    </tr>\n",
       "    <tr>\n",
       "      <th>3</th>\n",
       "      <td>109c624f-a48d-4eb1-bcae-e247c4f84646</td>\n",
       "      <td>associated_topic</td>\n",
       "      <td>d42ae2ea-559d-4832-895a-9c46bb00f3ba</td>\n",
       "      <td>d494d90a-b28d-4e93-a74a-fa35be21e5d3</td>\n",
       "      <td>0.8872</td>\n",
       "    </tr>\n",
       "    <tr>\n",
       "      <th>4</th>\n",
       "      <td>6921f83a-050d-44f1-b5ad-ec5cdb8fb7c2</td>\n",
       "      <td>associated_topic</td>\n",
       "      <td>d42ae2ea-559d-4832-895a-9c46bb00f3ba</td>\n",
       "      <td>91c0d427-82bd-433a-8859-7b3e2cfebf4c</td>\n",
       "      <td>0.6584</td>\n",
       "    </tr>\n",
       "  </tbody>\n",
       "</table>\n",
       "</div>"
      ],
      "text/plain": [
       "                                    ~id            ~label  \\\n",
       "0  c5a84fb7-7e2b-49f2-b744-ed841595b5dc  associated_topic   \n",
       "1  7bbf3f41-d087-48ee-b5bd-9ef748a8f5db  associated_topic   \n",
       "2  a1ff3f90-cbcc-4ef6-a5fa-3fe28365ece2  associated_topic   \n",
       "3  109c624f-a48d-4eb1-bcae-e247c4f84646  associated_topic   \n",
       "4  6921f83a-050d-44f1-b5ad-ec5cdb8fb7c2  associated_topic   \n",
       "\n",
       "                                  ~from                                   ~to  \\\n",
       "0  b2d29ec4-caa3-438a-897c-445f5b8c1314  ed0fbd02-ccff-4e13-8381-e44708494382   \n",
       "1  01c20e5d-f3e2-42bf-bd58-bbac101316d0  009368ed-d4d2-4b87-908d-42529c39dbf3   \n",
       "2  d42ae2ea-559d-4832-895a-9c46bb00f3ba  ddc3abdc-82ad-4c4b-b87c-07f54d8d5dc9   \n",
       "3  d42ae2ea-559d-4832-895a-9c46bb00f3ba  d494d90a-b28d-4e93-a74a-fa35be21e5d3   \n",
       "4  d42ae2ea-559d-4832-895a-9c46bb00f3ba  91c0d427-82bd-433a-8859-7b3e2cfebf4c   \n",
       "\n",
       "   score:Float  \n",
       "0       1.0000  \n",
       "1       0.9540  \n",
       "2       0.9927  \n",
       "3       0.8872  \n",
       "4       0.6584  "
      ]
     },
     "execution_count": 43,
     "metadata": {},
     "output_type": "execute_result"
    }
   ],
   "source": [
    "paper_to_topic.head()"
   ]
  },
  {
   "cell_type": "code",
   "execution_count": 46,
   "metadata": {},
   "outputs": [
    {
     "name": "stderr",
     "output_type": "stream",
     "text": [
      "131508it [08:39, 252.93it/s]"
     ]
    },
    {
     "name": "stdout",
     "output_type": "stream",
     "text": [
      "('atrans-splicedleadersequenceonactinmrnaincelegans', 'associated_with score: 1.0', 'genomics')\n",
      "('chapter100angiotensin-convertingenzyme-2', 'associated_with score: 0.954', 'epidemiology')\n",
      "('technoeconomicmodelingofplant-basedgriffithsinmanufacturing', 'associated_with score: 0.9927', 'public-health-policies')\n",
      "('technoeconomicmodelingofplant-basedgriffithsinmanufacturing', 'associated_with score: 0.8872', 'lab-trials-human')\n",
      "('technoeconomicmodelingofplant-basedgriffithsinmanufacturing', 'associated_with score: 0.6584', 'healthcare-industry')\n",
      "('thecovid-19pandemicimplicationsforthecytologylaboratory', 'associated_with score: 0.9988', 'public-health-policies')\n",
      "('thecovid-19pandemicimplicationsforthecytologylaboratory', 'associated_with score: 0.9399', 'epidemiology')\n",
      "('extendedstorageofsars-cov2nasopharyngealswabsdoesnotnegativelyimpactresultsofmolecular-basedtesting', 'associated_with score: 1.0', 'lab-trials-human')\n",
      "('extendedstorageofsars-cov2nasopharyngealswabsdoesnotnegativelyimpactresultsofmolecular-basedtesting', 'associated_with score: 0.9883', 'public-health-policies')\n",
      "('extendedstorageofsars-cov2nasopharyngealswabsdoesnotnegativelyimpactresultsofmolecular-basedtesting', 'associated_with score: 0.7607', 'epidemiology')\n"
     ]
    },
    {
     "name": "stderr",
     "output_type": "stream",
     "text": [
      "\n"
     ]
    }
   ],
   "source": [
    "# Create a knowledge graph with triplets connecting the paper titles to the topics\n",
    "knowledge_graph = []\n",
    "\n",
    "# Iterate over the paper_to_topic dataframe to create triplets\n",
    "for _, row in tqdm(paper_to_topic.iterrows()):\n",
    "    paper_id = row['~from']\n",
    "    topic_id = row['~to']\n",
    "    score = row['score:Float']\n",
    "    \n",
    "    # Get the paper title\n",
    "    # Check if there are any matching rows\n",
    "    matching_rows = title_to_paper[title_to_paper['paper_id'] == paper_id]['title'].values\n",
    "\n",
    "    if len(matching_rows) > 0:\n",
    "        paper_title = matching_rows[0]\n",
    "    else:\n",
    "        continue\n",
    "        \n",
    "    # Get the topic name\n",
    "    topic_name = topic_nodes[topic_nodes['~id'] == topic_id]['topic:String'].values[0]\n",
    "    \n",
    "    # Create a triplet\n",
    "    triplet = (paper_title, f'associated_with score: {score}', topic_name)\n",
    "    knowledge_graph.append(triplet)\n",
    "\n",
    "# Display the first 10 triplets\n",
    "for triplet in knowledge_graph[:10]:\n",
    "    print(triplet)"
   ]
  },
  {
   "cell_type": "code",
   "execution_count": 47,
   "metadata": {},
   "outputs": [
    {
     "data": {
      "text/plain": [
       "129530"
      ]
     },
     "execution_count": 47,
     "metadata": {},
     "output_type": "execute_result"
    }
   ],
   "source": [
    "len(knowledge_graph)"
   ]
  },
  {
   "cell_type": "code",
   "execution_count": 48,
   "metadata": {},
   "outputs": [],
   "source": [
    "# Write the knowledge graph to a txt file called KG_topic\n",
    "with open('KG_topic.txt', 'w') as f:\n",
    "    for triplet in knowledge_graph:\n",
    "        f.write(f'{triplet[0]},{triplet[1]},{triplet[2]}\\n')"
   ]
  },
  {
   "cell_type": "markdown",
   "metadata": {},
   "source": [
    "### Country and Institution Knowledge graph"
   ]
  },
  {
   "cell_type": "code",
   "execution_count": 37,
   "metadata": {},
   "outputs": [],
   "source": [
    "title_to_paper_file = './Data/Data/title_to_paper_map.json'\n",
    "institution_nodes_file = './Data/Data/nodes/institution_nodes.csv'\n",
    "paper_to_author_file = './Data/Data/edges/paper_to_author.csv'\n",
    "author_to_institution_file = './Data/Data/edges/author_to_institution.csv'\n",
    "\n",
    "# Load the title to paper map\n",
    "with open(title_to_paper_file) as f:\n",
    "    title_to_paper = json.load(f)\n",
    "\n",
    "# convert the json to a pandas dataframe\n",
    "title_to_paper = pd.DataFrame(title_to_paper.items(), columns=['title', 'paper_id'])\n",
    "\n",
    "# Load the institution nodes\n",
    "institution_nodes = pd.read_csv(institution_nodes_file)\n",
    "\n",
    "# Load the paper to author edges\n",
    "paper_to_author = pd.read_csv(paper_to_author_file)\n",
    "\n",
    "# Load the author to institution edges\n",
    "author_to_institution = pd.read_csv(author_to_institution_file)"
   ]
  },
  {
   "cell_type": "code",
   "execution_count": 38,
   "metadata": {},
   "outputs": [
    {
     "name": "stdout",
     "output_type": "stream",
     "text": [
      "29932\n"
     ]
    },
    {
     "data": {
      "text/html": [
       "<div>\n",
       "<style scoped>\n",
       "    .dataframe tbody tr th:only-of-type {\n",
       "        vertical-align: middle;\n",
       "    }\n",
       "\n",
       "    .dataframe tbody tr th {\n",
       "        vertical-align: top;\n",
       "    }\n",
       "\n",
       "    .dataframe thead th {\n",
       "        text-align: right;\n",
       "    }\n",
       "</style>\n",
       "<table border=\"1\" class=\"dataframe\">\n",
       "  <thead>\n",
       "    <tr style=\"text-align: right;\">\n",
       "      <th></th>\n",
       "      <th>~id</th>\n",
       "      <th>~label</th>\n",
       "      <th>institution:String</th>\n",
       "      <th>address:String</th>\n",
       "      <th>country:String</th>\n",
       "      <th>post_code:String</th>\n",
       "      <th>settlement:String</th>\n",
       "      <th>publication_count:Int</th>\n",
       "    </tr>\n",
       "  </thead>\n",
       "  <tbody>\n",
       "    <tr>\n",
       "      <th>0</th>\n",
       "      <td>184966b9-c04c-4df5-ae54-ffde72a56202</td>\n",
       "      <td>Institution</td>\n",
       "      <td>Mawlana Bhashani Science and Technology Univer...</td>\n",
       "      <td>NaN</td>\n",
       "      <td>Bangladesh</td>\n",
       "      <td>NaN</td>\n",
       "      <td>Tangail</td>\n",
       "      <td>8</td>\n",
       "    </tr>\n",
       "    <tr>\n",
       "      <th>1</th>\n",
       "      <td>d7c2de28-c171-4cd6-86d1-1fe957ebabb9</td>\n",
       "      <td>Institution</td>\n",
       "      <td>Khulna University</td>\n",
       "      <td>NaN</td>\n",
       "      <td>Bangladesh</td>\n",
       "      <td>NaN</td>\n",
       "      <td>Khulna</td>\n",
       "      <td>10</td>\n",
       "    </tr>\n",
       "    <tr>\n",
       "      <th>2</th>\n",
       "      <td>25d0debf-1456-47da-ad30-03fca5e53670</td>\n",
       "      <td>Institution</td>\n",
       "      <td>University of Dhaka</td>\n",
       "      <td>NaN</td>\n",
       "      <td>Bangladesh</td>\n",
       "      <td>NaN</td>\n",
       "      <td>Dhaka</td>\n",
       "      <td>22</td>\n",
       "    </tr>\n",
       "    <tr>\n",
       "      <th>3</th>\n",
       "      <td>b657c9b8-8405-4d6a-b09b-bd04e6e52763</td>\n",
       "      <td>Institution</td>\n",
       "      <td>NaN</td>\n",
       "      <td>NaN</td>\n",
       "      <td>Bangladesh</td>\n",
       "      <td>NaN</td>\n",
       "      <td>Dhaka</td>\n",
       "      <td>1</td>\n",
       "    </tr>\n",
       "    <tr>\n",
       "      <th>4</th>\n",
       "      <td>a7c0830f-8dd6-42c1-88e0-53d6d6344f48</td>\n",
       "      <td>Institution</td>\n",
       "      <td>Rothman Orthopaedic Institute at Thomas Jeffer...</td>\n",
       "      <td>NaN</td>\n",
       "      <td>NaN</td>\n",
       "      <td>NaN</td>\n",
       "      <td>Philadelphia</td>\n",
       "      <td>3</td>\n",
       "    </tr>\n",
       "  </tbody>\n",
       "</table>\n",
       "</div>"
      ],
      "text/plain": [
       "                                    ~id       ~label  \\\n",
       "0  184966b9-c04c-4df5-ae54-ffde72a56202  Institution   \n",
       "1  d7c2de28-c171-4cd6-86d1-1fe957ebabb9  Institution   \n",
       "2  25d0debf-1456-47da-ad30-03fca5e53670  Institution   \n",
       "3  b657c9b8-8405-4d6a-b09b-bd04e6e52763  Institution   \n",
       "4  a7c0830f-8dd6-42c1-88e0-53d6d6344f48  Institution   \n",
       "\n",
       "                                  institution:String address:String  \\\n",
       "0  Mawlana Bhashani Science and Technology Univer...            NaN   \n",
       "1                                  Khulna University            NaN   \n",
       "2                                University of Dhaka            NaN   \n",
       "3                                                NaN            NaN   \n",
       "4  Rothman Orthopaedic Institute at Thomas Jeffer...            NaN   \n",
       "\n",
       "  country:String post_code:String settlement:String  publication_count:Int  \n",
       "0     Bangladesh              NaN           Tangail                      8  \n",
       "1     Bangladesh              NaN            Khulna                     10  \n",
       "2     Bangladesh              NaN             Dhaka                     22  \n",
       "3     Bangladesh              NaN             Dhaka                      1  \n",
       "4            NaN              NaN      Philadelphia                      3  "
      ]
     },
     "execution_count": 38,
     "metadata": {},
     "output_type": "execute_result"
    }
   ],
   "source": [
    "print(len(institution_nodes))\n",
    "institution_nodes.head()"
   ]
  },
  {
   "cell_type": "code",
   "execution_count": 31,
   "metadata": {},
   "outputs": [
    {
     "name": "stdout",
     "output_type": "stream",
     "text": [
      "340789\n"
     ]
    },
    {
     "data": {
      "text/html": [
       "<div>\n",
       "<style scoped>\n",
       "    .dataframe tbody tr th:only-of-type {\n",
       "        vertical-align: middle;\n",
       "    }\n",
       "\n",
       "    .dataframe tbody tr th {\n",
       "        vertical-align: top;\n",
       "    }\n",
       "\n",
       "    .dataframe thead th {\n",
       "        text-align: right;\n",
       "    }\n",
       "</style>\n",
       "<table border=\"1\" class=\"dataframe\">\n",
       "  <thead>\n",
       "    <tr style=\"text-align: right;\">\n",
       "      <th></th>\n",
       "      <th>~id</th>\n",
       "      <th>~label</th>\n",
       "      <th>~from</th>\n",
       "      <th>~to</th>\n",
       "    </tr>\n",
       "  </thead>\n",
       "  <tbody>\n",
       "    <tr>\n",
       "      <th>0</th>\n",
       "      <td>bf5dab20-5552-4305-afce-ca3cdc286840</td>\n",
       "      <td>authored_by</td>\n",
       "      <td>a7a37b88-3851-4af2-b624-ead921eb37da</td>\n",
       "      <td>f9ddd3b1-ce1d-4f09-a462-dfb4d0bc3d14</td>\n",
       "    </tr>\n",
       "    <tr>\n",
       "      <th>1</th>\n",
       "      <td>df36b559-d9c6-4d3f-ab40-ed6c640d9650</td>\n",
       "      <td>authored_by</td>\n",
       "      <td>1bad150b-32bd-46e4-8d56-b3097285819d</td>\n",
       "      <td>23061148-48ab-43e8-bf36-522ae98fc0e1</td>\n",
       "    </tr>\n",
       "    <tr>\n",
       "      <th>2</th>\n",
       "      <td>49ad106d-be04-4fc9-9f2e-4b0d195347bd</td>\n",
       "      <td>authored_by</td>\n",
       "      <td>520010ce-6cfe-4d1d-85c9-006ce29289ef</td>\n",
       "      <td>3f572202-06e9-42f5-b002-e899d36dad4e</td>\n",
       "    </tr>\n",
       "    <tr>\n",
       "      <th>3</th>\n",
       "      <td>91601a14-34d4-4e23-a664-a2ecad5c98db</td>\n",
       "      <td>authored_by</td>\n",
       "      <td>95267dc1-8d53-4fd5-bc2f-ac809f0cbcdd</td>\n",
       "      <td>4b35351a-41fd-416b-bd62-7846e6219564</td>\n",
       "    </tr>\n",
       "    <tr>\n",
       "      <th>4</th>\n",
       "      <td>0ba81299-2353-4048-b62d-b8399a50c1fa</td>\n",
       "      <td>authored_by</td>\n",
       "      <td>cc6cd651-d5eb-49f3-a497-22f0c85fb960</td>\n",
       "      <td>fdea87e2-42e3-43bb-bf3c-9ea35facfae5</td>\n",
       "    </tr>\n",
       "  </tbody>\n",
       "</table>\n",
       "</div>"
      ],
      "text/plain": [
       "                                    ~id       ~label  \\\n",
       "0  bf5dab20-5552-4305-afce-ca3cdc286840  authored_by   \n",
       "1  df36b559-d9c6-4d3f-ab40-ed6c640d9650  authored_by   \n",
       "2  49ad106d-be04-4fc9-9f2e-4b0d195347bd  authored_by   \n",
       "3  91601a14-34d4-4e23-a664-a2ecad5c98db  authored_by   \n",
       "4  0ba81299-2353-4048-b62d-b8399a50c1fa  authored_by   \n",
       "\n",
       "                                  ~from                                   ~to  \n",
       "0  a7a37b88-3851-4af2-b624-ead921eb37da  f9ddd3b1-ce1d-4f09-a462-dfb4d0bc3d14  \n",
       "1  1bad150b-32bd-46e4-8d56-b3097285819d  23061148-48ab-43e8-bf36-522ae98fc0e1  \n",
       "2  520010ce-6cfe-4d1d-85c9-006ce29289ef  3f572202-06e9-42f5-b002-e899d36dad4e  \n",
       "3  95267dc1-8d53-4fd5-bc2f-ac809f0cbcdd  4b35351a-41fd-416b-bd62-7846e6219564  \n",
       "4  cc6cd651-d5eb-49f3-a497-22f0c85fb960  fdea87e2-42e3-43bb-bf3c-9ea35facfae5  "
      ]
     },
     "execution_count": 31,
     "metadata": {},
     "output_type": "execute_result"
    }
   ],
   "source": [
    "print(len(paper_to_author))\n",
    "paper_to_author.head()"
   ]
  },
  {
   "cell_type": "code",
   "execution_count": 32,
   "metadata": {},
   "outputs": [
    {
     "name": "stdout",
     "output_type": "stream",
     "text": [
      "164136\n"
     ]
    },
    {
     "data": {
      "text/html": [
       "<div>\n",
       "<style scoped>\n",
       "    .dataframe tbody tr th:only-of-type {\n",
       "        vertical-align: middle;\n",
       "    }\n",
       "\n",
       "    .dataframe tbody tr th {\n",
       "        vertical-align: top;\n",
       "    }\n",
       "\n",
       "    .dataframe thead th {\n",
       "        text-align: right;\n",
       "    }\n",
       "</style>\n",
       "<table border=\"1\" class=\"dataframe\">\n",
       "  <thead>\n",
       "    <tr style=\"text-align: right;\">\n",
       "      <th></th>\n",
       "      <th>~id</th>\n",
       "      <th>~label</th>\n",
       "      <th>~from</th>\n",
       "      <th>~to</th>\n",
       "    </tr>\n",
       "  </thead>\n",
       "  <tbody>\n",
       "    <tr>\n",
       "      <th>0</th>\n",
       "      <td>8dd10a68-7b90-43b1-8644-d656d404fd97</td>\n",
       "      <td>affiliated_with</td>\n",
       "      <td>1d798c5d-dedf-405f-9246-eed1cf38ed6e</td>\n",
       "      <td>53f7b823-5bae-4dc2-bd71-f647309b191f</td>\n",
       "    </tr>\n",
       "    <tr>\n",
       "      <th>1</th>\n",
       "      <td>2ded134a-6365-4282-8343-25c995a88129</td>\n",
       "      <td>affiliated_with</td>\n",
       "      <td>1d304ff5-6f22-40e7-83c4-a40cc6b40af2</td>\n",
       "      <td>483b277e-323a-4ddc-bba7-ec3675b73d25</td>\n",
       "    </tr>\n",
       "    <tr>\n",
       "      <th>2</th>\n",
       "      <td>5a87b0c9-325e-44a3-932d-fc74b7f78d56</td>\n",
       "      <td>affiliated_with</td>\n",
       "      <td>dd4d756c-d58e-48ab-9e0a-4198f5b63f65</td>\n",
       "      <td>137b6494-457a-4ed8-bc24-3b5c7b6ce367</td>\n",
       "    </tr>\n",
       "    <tr>\n",
       "      <th>3</th>\n",
       "      <td>b566b461-5e07-4d05-b1f5-b20cc579b923</td>\n",
       "      <td>affiliated_with</td>\n",
       "      <td>ab05d4a7-c9f2-41cd-94fd-37630b7b159e</td>\n",
       "      <td>56dbc969-3abc-487a-ac8d-2cfc5a024a54</td>\n",
       "    </tr>\n",
       "    <tr>\n",
       "      <th>4</th>\n",
       "      <td>22a34a5d-2c82-437d-be06-fd7dbf27d2c4</td>\n",
       "      <td>affiliated_with</td>\n",
       "      <td>e4a37fbb-637e-407b-8589-98a6b8b8603d</td>\n",
       "      <td>811035d4-7799-408e-96fc-217abb7922b6</td>\n",
       "    </tr>\n",
       "  </tbody>\n",
       "</table>\n",
       "</div>"
      ],
      "text/plain": [
       "                                    ~id           ~label  \\\n",
       "0  8dd10a68-7b90-43b1-8644-d656d404fd97  affiliated_with   \n",
       "1  2ded134a-6365-4282-8343-25c995a88129  affiliated_with   \n",
       "2  5a87b0c9-325e-44a3-932d-fc74b7f78d56  affiliated_with   \n",
       "3  b566b461-5e07-4d05-b1f5-b20cc579b923  affiliated_with   \n",
       "4  22a34a5d-2c82-437d-be06-fd7dbf27d2c4  affiliated_with   \n",
       "\n",
       "                                  ~from                                   ~to  \n",
       "0  1d798c5d-dedf-405f-9246-eed1cf38ed6e  53f7b823-5bae-4dc2-bd71-f647309b191f  \n",
       "1  1d304ff5-6f22-40e7-83c4-a40cc6b40af2  483b277e-323a-4ddc-bba7-ec3675b73d25  \n",
       "2  dd4d756c-d58e-48ab-9e0a-4198f5b63f65  137b6494-457a-4ed8-bc24-3b5c7b6ce367  \n",
       "3  ab05d4a7-c9f2-41cd-94fd-37630b7b159e  56dbc969-3abc-487a-ac8d-2cfc5a024a54  \n",
       "4  e4a37fbb-637e-407b-8589-98a6b8b8603d  811035d4-7799-408e-96fc-217abb7922b6  "
      ]
     },
     "execution_count": 32,
     "metadata": {},
     "output_type": "execute_result"
    }
   ],
   "source": [
    "print(len(author_to_institution))\n",
    "author_to_institution.head()"
   ]
  },
  {
   "cell_type": "code",
   "execution_count": 40,
   "metadata": {},
   "outputs": [
    {
     "name": "stdout",
     "output_type": "stream",
     "text": [
      "482734\n"
     ]
    },
    {
     "data": {
      "text/html": [
       "<div>\n",
       "<style scoped>\n",
       "    .dataframe tbody tr th:only-of-type {\n",
       "        vertical-align: middle;\n",
       "    }\n",
       "\n",
       "    .dataframe tbody tr th {\n",
       "        vertical-align: top;\n",
       "    }\n",
       "\n",
       "    .dataframe thead th {\n",
       "        text-align: right;\n",
       "    }\n",
       "</style>\n",
       "<table border=\"1\" class=\"dataframe\">\n",
       "  <thead>\n",
       "    <tr style=\"text-align: right;\">\n",
       "      <th></th>\n",
       "      <th>~id_x</th>\n",
       "      <th>~label_x</th>\n",
       "      <th>~from_x</th>\n",
       "      <th>~to_x</th>\n",
       "      <th>~id_y</th>\n",
       "      <th>~label_y</th>\n",
       "      <th>~from_y</th>\n",
       "      <th>~to_y</th>\n",
       "    </tr>\n",
       "  </thead>\n",
       "  <tbody>\n",
       "    <tr>\n",
       "      <th>0</th>\n",
       "      <td>bf5dab20-5552-4305-afce-ca3cdc286840</td>\n",
       "      <td>authored_by</td>\n",
       "      <td>a7a37b88-3851-4af2-b624-ead921eb37da</td>\n",
       "      <td>f9ddd3b1-ce1d-4f09-a462-dfb4d0bc3d14</td>\n",
       "      <td>02fda3d8-5e86-4ba1-8782-8963847529d8</td>\n",
       "      <td>affiliated_with</td>\n",
       "      <td>f9ddd3b1-ce1d-4f09-a462-dfb4d0bc3d14</td>\n",
       "      <td>5f649689-473b-4e1b-93c3-5757cf0f75a1</td>\n",
       "    </tr>\n",
       "    <tr>\n",
       "      <th>1</th>\n",
       "      <td>df36b559-d9c6-4d3f-ab40-ed6c640d9650</td>\n",
       "      <td>authored_by</td>\n",
       "      <td>1bad150b-32bd-46e4-8d56-b3097285819d</td>\n",
       "      <td>23061148-48ab-43e8-bf36-522ae98fc0e1</td>\n",
       "      <td>b7ae4b77-f85b-4b66-b06b-8d66db5fa394</td>\n",
       "      <td>affiliated_with</td>\n",
       "      <td>23061148-48ab-43e8-bf36-522ae98fc0e1</td>\n",
       "      <td>71e38b36-b115-45be-8e02-ece8defec621</td>\n",
       "    </tr>\n",
       "    <tr>\n",
       "      <th>2</th>\n",
       "      <td>49ad106d-be04-4fc9-9f2e-4b0d195347bd</td>\n",
       "      <td>authored_by</td>\n",
       "      <td>520010ce-6cfe-4d1d-85c9-006ce29289ef</td>\n",
       "      <td>3f572202-06e9-42f5-b002-e899d36dad4e</td>\n",
       "      <td>a23f144e-5152-4f2c-ba00-7e7963c757d1</td>\n",
       "      <td>affiliated_with</td>\n",
       "      <td>3f572202-06e9-42f5-b002-e899d36dad4e</td>\n",
       "      <td>aa24f219-ca4f-44d6-987a-bb3d78da9732</td>\n",
       "    </tr>\n",
       "    <tr>\n",
       "      <th>3</th>\n",
       "      <td>18f5e393-95ad-4059-979d-bab07e730df8</td>\n",
       "      <td>authored_by</td>\n",
       "      <td>52efaa04-db11-49d4-b543-b8b29f7a9f7e</td>\n",
       "      <td>40267fbd-05ce-4760-b074-406e118f6e5e</td>\n",
       "      <td>fda0e3c1-f19a-41c1-8105-d076e19fc8fb</td>\n",
       "      <td>affiliated_with</td>\n",
       "      <td>40267fbd-05ce-4760-b074-406e118f6e5e</td>\n",
       "      <td>4d98477b-5ec2-4aef-b903-faa4d0e229f9</td>\n",
       "    </tr>\n",
       "    <tr>\n",
       "      <th>4</th>\n",
       "      <td>18f5e393-95ad-4059-979d-bab07e730df8</td>\n",
       "      <td>authored_by</td>\n",
       "      <td>52efaa04-db11-49d4-b543-b8b29f7a9f7e</td>\n",
       "      <td>40267fbd-05ce-4760-b074-406e118f6e5e</td>\n",
       "      <td>ca580ab4-9d9c-4ad3-b108-7f93de2b660a</td>\n",
       "      <td>affiliated_with</td>\n",
       "      <td>40267fbd-05ce-4760-b074-406e118f6e5e</td>\n",
       "      <td>c4ffabb7-f2a8-4015-ac28-d519d1fe39cf</td>\n",
       "    </tr>\n",
       "  </tbody>\n",
       "</table>\n",
       "</div>"
      ],
      "text/plain": [
       "                                  ~id_x     ~label_x  \\\n",
       "0  bf5dab20-5552-4305-afce-ca3cdc286840  authored_by   \n",
       "1  df36b559-d9c6-4d3f-ab40-ed6c640d9650  authored_by   \n",
       "2  49ad106d-be04-4fc9-9f2e-4b0d195347bd  authored_by   \n",
       "3  18f5e393-95ad-4059-979d-bab07e730df8  authored_by   \n",
       "4  18f5e393-95ad-4059-979d-bab07e730df8  authored_by   \n",
       "\n",
       "                                ~from_x                                 ~to_x  \\\n",
       "0  a7a37b88-3851-4af2-b624-ead921eb37da  f9ddd3b1-ce1d-4f09-a462-dfb4d0bc3d14   \n",
       "1  1bad150b-32bd-46e4-8d56-b3097285819d  23061148-48ab-43e8-bf36-522ae98fc0e1   \n",
       "2  520010ce-6cfe-4d1d-85c9-006ce29289ef  3f572202-06e9-42f5-b002-e899d36dad4e   \n",
       "3  52efaa04-db11-49d4-b543-b8b29f7a9f7e  40267fbd-05ce-4760-b074-406e118f6e5e   \n",
       "4  52efaa04-db11-49d4-b543-b8b29f7a9f7e  40267fbd-05ce-4760-b074-406e118f6e5e   \n",
       "\n",
       "                                  ~id_y         ~label_y  \\\n",
       "0  02fda3d8-5e86-4ba1-8782-8963847529d8  affiliated_with   \n",
       "1  b7ae4b77-f85b-4b66-b06b-8d66db5fa394  affiliated_with   \n",
       "2  a23f144e-5152-4f2c-ba00-7e7963c757d1  affiliated_with   \n",
       "3  fda0e3c1-f19a-41c1-8105-d076e19fc8fb  affiliated_with   \n",
       "4  ca580ab4-9d9c-4ad3-b108-7f93de2b660a  affiliated_with   \n",
       "\n",
       "                                ~from_y                                 ~to_y  \n",
       "0  f9ddd3b1-ce1d-4f09-a462-dfb4d0bc3d14  5f649689-473b-4e1b-93c3-5757cf0f75a1  \n",
       "1  23061148-48ab-43e8-bf36-522ae98fc0e1  71e38b36-b115-45be-8e02-ece8defec621  \n",
       "2  3f572202-06e9-42f5-b002-e899d36dad4e  aa24f219-ca4f-44d6-987a-bb3d78da9732  \n",
       "3  40267fbd-05ce-4760-b074-406e118f6e5e  4d98477b-5ec2-4aef-b903-faa4d0e229f9  \n",
       "4  40267fbd-05ce-4760-b074-406e118f6e5e  c4ffabb7-f2a8-4015-ac28-d519d1fe39cf  "
      ]
     },
     "execution_count": 40,
     "metadata": {},
     "output_type": "execute_result"
    }
   ],
   "source": [
    "# give me all the rows where '~to' of paper_to_author is equal to '~from' of author_to_institution\n",
    "\n",
    "paper_to_institution= pd.merge(paper_to_author, author_to_institution, left_on='~to', right_on='~from')\n",
    "print(len(paper_to_institution))\n",
    "paper_to_institution.head()"
   ]
  },
  {
   "cell_type": "code",
   "execution_count": 41,
   "metadata": {},
   "outputs": [
    {
     "data": {
      "text/html": [
       "<div>\n",
       "<style scoped>\n",
       "    .dataframe tbody tr th:only-of-type {\n",
       "        vertical-align: middle;\n",
       "    }\n",
       "\n",
       "    .dataframe tbody tr th {\n",
       "        vertical-align: top;\n",
       "    }\n",
       "\n",
       "    .dataframe thead th {\n",
       "        text-align: right;\n",
       "    }\n",
       "</style>\n",
       "<table border=\"1\" class=\"dataframe\">\n",
       "  <thead>\n",
       "    <tr style=\"text-align: right;\">\n",
       "      <th></th>\n",
       "      <th>paper_id</th>\n",
       "      <th>institution_id</th>\n",
       "    </tr>\n",
       "  </thead>\n",
       "  <tbody>\n",
       "    <tr>\n",
       "      <th>0</th>\n",
       "      <td>a7a37b88-3851-4af2-b624-ead921eb37da</td>\n",
       "      <td>5f649689-473b-4e1b-93c3-5757cf0f75a1</td>\n",
       "    </tr>\n",
       "    <tr>\n",
       "      <th>1</th>\n",
       "      <td>1bad150b-32bd-46e4-8d56-b3097285819d</td>\n",
       "      <td>71e38b36-b115-45be-8e02-ece8defec621</td>\n",
       "    </tr>\n",
       "    <tr>\n",
       "      <th>2</th>\n",
       "      <td>520010ce-6cfe-4d1d-85c9-006ce29289ef</td>\n",
       "      <td>aa24f219-ca4f-44d6-987a-bb3d78da9732</td>\n",
       "    </tr>\n",
       "    <tr>\n",
       "      <th>3</th>\n",
       "      <td>52efaa04-db11-49d4-b543-b8b29f7a9f7e</td>\n",
       "      <td>4d98477b-5ec2-4aef-b903-faa4d0e229f9</td>\n",
       "    </tr>\n",
       "    <tr>\n",
       "      <th>4</th>\n",
       "      <td>52efaa04-db11-49d4-b543-b8b29f7a9f7e</td>\n",
       "      <td>c4ffabb7-f2a8-4015-ac28-d519d1fe39cf</td>\n",
       "    </tr>\n",
       "  </tbody>\n",
       "</table>\n",
       "</div>"
      ],
      "text/plain": [
       "                               paper_id                        institution_id\n",
       "0  a7a37b88-3851-4af2-b624-ead921eb37da  5f649689-473b-4e1b-93c3-5757cf0f75a1\n",
       "1  1bad150b-32bd-46e4-8d56-b3097285819d  71e38b36-b115-45be-8e02-ece8defec621\n",
       "2  520010ce-6cfe-4d1d-85c9-006ce29289ef  aa24f219-ca4f-44d6-987a-bb3d78da9732\n",
       "3  52efaa04-db11-49d4-b543-b8b29f7a9f7e  4d98477b-5ec2-4aef-b903-faa4d0e229f9\n",
       "4  52efaa04-db11-49d4-b543-b8b29f7a9f7e  c4ffabb7-f2a8-4015-ac28-d519d1fe39cf"
      ]
     },
     "execution_count": 41,
     "metadata": {},
     "output_type": "execute_result"
    }
   ],
   "source": [
    "# keep only the '~from_x' and '~to_y' columns. Chnage the names to 'paper_id' and 'institution_id'\n",
    "paper_to_institution = paper_to_institution[['~from_x', '~to_y']]\n",
    "paper_to_institution.columns = ['paper_id', 'institution_id']\n",
    "paper_to_institution.head()"
   ]
  },
  {
   "cell_type": "code",
   "execution_count": 44,
   "metadata": {},
   "outputs": [
    {
     "ename": "TypeError",
     "evalue": "can only concatenate str (not \"int\") to str",
     "output_type": "error",
     "traceback": [
      "\u001b[1;31m---------------------------------------------------------------------------\u001b[0m",
      "\u001b[1;31mTypeError\u001b[0m                                 Traceback (most recent call last)",
      "Cell \u001b[1;32mIn[44], line 30\u001b[0m\n\u001b[0;32m     26\u001b[0m     triplet \u001b[38;5;241m=\u001b[39m (paper_title, \u001b[38;5;124mf\u001b[39m\u001b[38;5;124m'\u001b[39m\u001b[38;5;124mfrom institution\u001b[39m\u001b[38;5;124m'\u001b[39m, institution_name)\n\u001b[0;32m     27\u001b[0m     knowledge_graph_institution\u001b[38;5;241m.\u001b[39mappend(triplet)\n\u001b[1;32m---> 30\u001b[0m \u001b[38;5;28mprint\u001b[39m(\u001b[38;5;124;43m'\u001b[39;49m\u001b[38;5;124;43mlength of knowledge graph country: \u001b[39;49m\u001b[38;5;124;43m'\u001b[39;49m\u001b[43m \u001b[49m\u001b[38;5;241;43m+\u001b[39;49m\u001b[43m \u001b[49m\u001b[38;5;28;43mlen\u001b[39;49m\u001b[43m(\u001b[49m\u001b[43mknowledge_graph_country\u001b[49m\u001b[43m)\u001b[49m)\n\u001b[0;32m     31\u001b[0m \u001b[38;5;28mprint\u001b[39m(\u001b[38;5;124m'\u001b[39m\u001b[38;5;124mlength of knowledge graph institution: \u001b[39m\u001b[38;5;124m'\u001b[39m \u001b[38;5;241m+\u001b[39m \u001b[38;5;28mlen\u001b[39m(knowledge_graph_institution))\n\u001b[0;32m     33\u001b[0m \u001b[38;5;66;03m# write the knowledge graph to a txt file\u001b[39;00m\n",
      "\u001b[1;31mTypeError\u001b[0m: can only concatenate str (not \"int\") to str"
     ]
    }
   ],
   "source": [
    "# for each institution_id, get the name from institution_nodes and their country. Replace the institution_id with the name and add a country column\n",
    "knowledge_graph_country = []\n",
    "knowledge_graph_institution = []\n",
    "for _, row in paper_to_institution.iterrows():\n",
    "    paper_id = row['paper_id']\n",
    "    institution_id = row['institution_id']\n",
    "    \n",
    "    # Get the insitution name\n",
    "    institution_name = institution_nodes[institution_nodes['~id'] == institution_id]['institution:String'].values[0]\n",
    "\n",
    "    # Get the institution country\n",
    "    institution_country = institution_nodes[institution_nodes['~id'] == institution_id]['country:String'].values[0]\n",
    "\n",
    "    # Get the paper title\n",
    "    matching_rows = title_to_paper[title_to_paper['paper_id'] == paper_id]['title'].values\n",
    "\n",
    "    if len(matching_rows) > 0:\n",
    "        paper_title = matching_rows[0]\n",
    "    else:\n",
    "        continue\n",
    "\n",
    "    # Create a triplet\n",
    "    triplet = (paper_title, f'from country', institution_country)\n",
    "    knowledge_graph_country.append(triplet)\n",
    "\n",
    "    triplet = (paper_title, f'from institution', institution_name)\n",
    "    knowledge_graph_institution.append(triplet)\n",
    "\n",
    "\n",
    "print('length of knowledge graph country: ' + str(len(knowledge_graph_country)))\n",
    "print('length of knowledge graph institution: ' + str(len(knowledge_graph_institution)))\n",
    "\n",
    "# write the knowledge graph to a txt file\n",
    "with open('KG_country.txt', 'w') as f:\n",
    "    for triplet in knowledge_graph_country:\n",
    "        f.write(f'{triplet[0]},{triplet[1]},{triplet[2]}\\n')\n",
    "\n",
    "with open('KG_institution.txt', 'w') as f:\n",
    "    for triplet in knowledge_graph_institution:\n",
    "        f.write(f'{triplet[0]},{triplet[1]},{triplet[2]}\\n')\n",
    "\n",
    "\n",
    "\n"
   ]
  },
  {
   "cell_type": "code",
   "execution_count": 45,
   "metadata": {},
   "outputs": [
    {
     "name": "stdout",
     "output_type": "stream",
     "text": [
      "length of knowledge graph country: 476865\n",
      "length of knowledge graph institution: 476865\n"
     ]
    }
   ],
   "source": [
    "print('length of knowledge graph country: ' + str(len(knowledge_graph_country)))\n",
    "print('length of knowledge graph institution: ' + str(len(knowledge_graph_institution)))\n",
    "\n",
    "# write the knowledge graph to a txt file\n",
    "with open('KG_country.txt', 'w') as f:\n",
    "    for triplet in knowledge_graph_country:\n",
    "        f.write(f'{triplet[0]},{triplet[1]},{triplet[2]}\\n')\n",
    "\n",
    "with open('KG_institution.txt', 'w') as f:\n",
    "    for triplet in knowledge_graph_institution:\n",
    "        f.write(f'{triplet[0]},{triplet[1]},{triplet[2]}\\n')"
   ]
  },
  {
   "cell_type": "markdown",
   "metadata": {},
   "source": [
    "Author Knowledge graph"
   ]
  },
  {
   "cell_type": "code",
   "execution_count": 46,
   "metadata": {},
   "outputs": [],
   "source": [
    "title_to_paper_file = './Data/Data/title_to_paper_map.json'\n",
    "paper_to_author_file = './Data/Data/edges/paper_to_author.csv'\n",
    "author_nodes_file = './Data/Data/nodes/paper_author_nodes.csv'\n",
    "\n",
    "# Load the title to paper map\n",
    "with open(title_to_paper_file) as f:\n",
    "    title_to_paper = json.load(f)\n",
    "\n",
    "# convert the json to a pandas dataframe\n",
    "title_to_paper = pd.DataFrame(title_to_paper.items(), columns=['title', 'paper_id'])\n",
    "\n",
    "# Load the author nodes\n",
    "author_nodes = pd.read_csv(author_nodes_file)\n",
    "\n",
    "# Load the paper to author edges\n",
    "paper_to_author = pd.read_csv(paper_to_author_file)"
   ]
  },
  {
   "cell_type": "code",
   "execution_count": 47,
   "metadata": {},
   "outputs": [
    {
     "name": "stdout",
     "output_type": "stream",
     "text": [
      "234827\n"
     ]
    },
    {
     "data": {
      "text/html": [
       "<div>\n",
       "<style scoped>\n",
       "    .dataframe tbody tr th:only-of-type {\n",
       "        vertical-align: middle;\n",
       "    }\n",
       "\n",
       "    .dataframe tbody tr th {\n",
       "        vertical-align: top;\n",
       "    }\n",
       "\n",
       "    .dataframe thead th {\n",
       "        text-align: right;\n",
       "    }\n",
       "</style>\n",
       "<table border=\"1\" class=\"dataframe\">\n",
       "  <thead>\n",
       "    <tr style=\"text-align: right;\">\n",
       "      <th></th>\n",
       "      <th>~id</th>\n",
       "      <th>~label</th>\n",
       "      <th>first:String</th>\n",
       "      <th>last:String</th>\n",
       "      <th>email:String</th>\n",
       "      <th>suffix:String</th>\n",
       "      <th>full_name:String</th>\n",
       "    </tr>\n",
       "  </thead>\n",
       "  <tbody>\n",
       "    <tr>\n",
       "      <th>0</th>\n",
       "      <td>cb49ec84-f706-4f00-bde9-906dcb4d4e33</td>\n",
       "      <td>Author</td>\n",
       "      <td>Rahman</td>\n",
       "      <td>Arafat</td>\n",
       "      <td>NaN</td>\n",
       "      <td>NaN</td>\n",
       "      <td>Rahman Arafat</td>\n",
       "    </tr>\n",
       "    <tr>\n",
       "      <th>1</th>\n",
       "      <td>ba40c47b-6088-4e90-887c-93e8a9683874</td>\n",
       "      <td>Author</td>\n",
       "      <td>NaN</td>\n",
       "      <td>Oany</td>\n",
       "      <td>NaN</td>\n",
       "      <td>NaN</td>\n",
       "      <td>Oany</td>\n",
       "    </tr>\n",
       "    <tr>\n",
       "      <th>2</th>\n",
       "      <td>10630c66-de26-4bf1-afc1-c4c35782a235</td>\n",
       "      <td>Author</td>\n",
       "      <td>Tahmina</td>\n",
       "      <td>Pervin</td>\n",
       "      <td>NaN</td>\n",
       "      <td>NaN</td>\n",
       "      <td>Tahmina Pervin</td>\n",
       "    </tr>\n",
       "    <tr>\n",
       "      <th>3</th>\n",
       "      <td>b8bd4a32-5c68-4c7d-85b6-e31c9f49e705</td>\n",
       "      <td>Author</td>\n",
       "      <td>Mamun</td>\n",
       "      <td>Mia</td>\n",
       "      <td>NaN</td>\n",
       "      <td>NaN</td>\n",
       "      <td>Mamun Mia</td>\n",
       "    </tr>\n",
       "    <tr>\n",
       "      <th>4</th>\n",
       "      <td>22b3a4cf-b448-407f-95a3-8ce4d7ece014</td>\n",
       "      <td>Author</td>\n",
       "      <td>Motaher</td>\n",
       "      <td>Hossain</td>\n",
       "      <td>NaN</td>\n",
       "      <td>NaN</td>\n",
       "      <td>Motaher Hossain</td>\n",
       "    </tr>\n",
       "  </tbody>\n",
       "</table>\n",
       "</div>"
      ],
      "text/plain": [
       "                                    ~id  ~label first:String last:String  \\\n",
       "0  cb49ec84-f706-4f00-bde9-906dcb4d4e33  Author       Rahman      Arafat   \n",
       "1  ba40c47b-6088-4e90-887c-93e8a9683874  Author          NaN        Oany   \n",
       "2  10630c66-de26-4bf1-afc1-c4c35782a235  Author      Tahmina      Pervin   \n",
       "3  b8bd4a32-5c68-4c7d-85b6-e31c9f49e705  Author        Mamun         Mia   \n",
       "4  22b3a4cf-b448-407f-95a3-8ce4d7ece014  Author      Motaher     Hossain   \n",
       "\n",
       "   email:String  suffix:String full_name:String  \n",
       "0           NaN            NaN    Rahman Arafat  \n",
       "1           NaN            NaN             Oany  \n",
       "2           NaN            NaN   Tahmina Pervin  \n",
       "3           NaN            NaN        Mamun Mia  \n",
       "4           NaN            NaN  Motaher Hossain  "
      ]
     },
     "execution_count": 47,
     "metadata": {},
     "output_type": "execute_result"
    }
   ],
   "source": [
    "print(len(author_nodes))\n",
    "author_nodes.head()"
   ]
  },
  {
   "cell_type": "code",
   "execution_count": 48,
   "metadata": {},
   "outputs": [
    {
     "name": "stdout",
     "output_type": "stream",
     "text": [
      "340789\n"
     ]
    },
    {
     "data": {
      "text/html": [
       "<div>\n",
       "<style scoped>\n",
       "    .dataframe tbody tr th:only-of-type {\n",
       "        vertical-align: middle;\n",
       "    }\n",
       "\n",
       "    .dataframe tbody tr th {\n",
       "        vertical-align: top;\n",
       "    }\n",
       "\n",
       "    .dataframe thead th {\n",
       "        text-align: right;\n",
       "    }\n",
       "</style>\n",
       "<table border=\"1\" class=\"dataframe\">\n",
       "  <thead>\n",
       "    <tr style=\"text-align: right;\">\n",
       "      <th></th>\n",
       "      <th>~id</th>\n",
       "      <th>~label</th>\n",
       "      <th>~from</th>\n",
       "      <th>~to</th>\n",
       "    </tr>\n",
       "  </thead>\n",
       "  <tbody>\n",
       "    <tr>\n",
       "      <th>0</th>\n",
       "      <td>bf5dab20-5552-4305-afce-ca3cdc286840</td>\n",
       "      <td>authored_by</td>\n",
       "      <td>a7a37b88-3851-4af2-b624-ead921eb37da</td>\n",
       "      <td>f9ddd3b1-ce1d-4f09-a462-dfb4d0bc3d14</td>\n",
       "    </tr>\n",
       "    <tr>\n",
       "      <th>1</th>\n",
       "      <td>df36b559-d9c6-4d3f-ab40-ed6c640d9650</td>\n",
       "      <td>authored_by</td>\n",
       "      <td>1bad150b-32bd-46e4-8d56-b3097285819d</td>\n",
       "      <td>23061148-48ab-43e8-bf36-522ae98fc0e1</td>\n",
       "    </tr>\n",
       "    <tr>\n",
       "      <th>2</th>\n",
       "      <td>49ad106d-be04-4fc9-9f2e-4b0d195347bd</td>\n",
       "      <td>authored_by</td>\n",
       "      <td>520010ce-6cfe-4d1d-85c9-006ce29289ef</td>\n",
       "      <td>3f572202-06e9-42f5-b002-e899d36dad4e</td>\n",
       "    </tr>\n",
       "    <tr>\n",
       "      <th>3</th>\n",
       "      <td>91601a14-34d4-4e23-a664-a2ecad5c98db</td>\n",
       "      <td>authored_by</td>\n",
       "      <td>95267dc1-8d53-4fd5-bc2f-ac809f0cbcdd</td>\n",
       "      <td>4b35351a-41fd-416b-bd62-7846e6219564</td>\n",
       "    </tr>\n",
       "    <tr>\n",
       "      <th>4</th>\n",
       "      <td>0ba81299-2353-4048-b62d-b8399a50c1fa</td>\n",
       "      <td>authored_by</td>\n",
       "      <td>cc6cd651-d5eb-49f3-a497-22f0c85fb960</td>\n",
       "      <td>fdea87e2-42e3-43bb-bf3c-9ea35facfae5</td>\n",
       "    </tr>\n",
       "  </tbody>\n",
       "</table>\n",
       "</div>"
      ],
      "text/plain": [
       "                                    ~id       ~label  \\\n",
       "0  bf5dab20-5552-4305-afce-ca3cdc286840  authored_by   \n",
       "1  df36b559-d9c6-4d3f-ab40-ed6c640d9650  authored_by   \n",
       "2  49ad106d-be04-4fc9-9f2e-4b0d195347bd  authored_by   \n",
       "3  91601a14-34d4-4e23-a664-a2ecad5c98db  authored_by   \n",
       "4  0ba81299-2353-4048-b62d-b8399a50c1fa  authored_by   \n",
       "\n",
       "                                  ~from                                   ~to  \n",
       "0  a7a37b88-3851-4af2-b624-ead921eb37da  f9ddd3b1-ce1d-4f09-a462-dfb4d0bc3d14  \n",
       "1  1bad150b-32bd-46e4-8d56-b3097285819d  23061148-48ab-43e8-bf36-522ae98fc0e1  \n",
       "2  520010ce-6cfe-4d1d-85c9-006ce29289ef  3f572202-06e9-42f5-b002-e899d36dad4e  \n",
       "3  95267dc1-8d53-4fd5-bc2f-ac809f0cbcdd  4b35351a-41fd-416b-bd62-7846e6219564  \n",
       "4  cc6cd651-d5eb-49f3-a497-22f0c85fb960  fdea87e2-42e3-43bb-bf3c-9ea35facfae5  "
      ]
     },
     "execution_count": 48,
     "metadata": {},
     "output_type": "execute_result"
    }
   ],
   "source": [
    "print(len(paper_to_author))\n",
    "paper_to_author.head()"
   ]
  },
  {
   "cell_type": "code",
   "execution_count": 49,
   "metadata": {},
   "outputs": [
    {
     "name": "stdout",
     "output_type": "stream",
     "text": [
      "length of knowledge graph author: 335138\n"
     ]
    },
    {
     "name": "stderr",
     "output_type": "stream",
     "text": [
      "100%|██████████| 335138/335138 [00:00<00:00, 653062.50it/s]\n"
     ]
    }
   ],
   "source": [
    "knowledge_graph_author = []\n",
    "\n",
    "for _, row in paper_to_author.iterrows():\n",
    "    paper_id = row['~from']\n",
    "    author_id = row['~to']\n",
    "    \n",
    "    # Get the author name\n",
    "    author_name = author_nodes[author_nodes['~id'] == author_id]['full_name:String'].values[0]\n",
    "\n",
    "    # Get the paper title\n",
    "    matching_rows = title_to_paper[title_to_paper['paper_id'] == paper_id]['title'].values\n",
    "\n",
    "    if len(matching_rows) > 0:\n",
    "        paper_title = matching_rows[0]\n",
    "    else:\n",
    "        continue\n",
    "\n",
    "    # Create a triplet\n",
    "    triplet = (paper_title, f'written by', author_name)\n",
    "    knowledge_graph_author.append(triplet)\n",
    "\n",
    "print('length of knowledge graph author: ' + str(len(knowledge_graph_author)))\n",
    "\n",
    "# write the knowledge graph to a txt file\n",
    "with open('KG_author.txt', 'w') as f:\n",
    "    for triplet in tqdm(knowledge_graph_author):\n",
    "        f.write(f'{triplet[0]},{triplet[1]},{triplet[2]}\\n')"
   ]
  },
  {
   "cell_type": "markdown",
   "metadata": {},
   "source": [
    "Concept Knowledge graph"
   ]
  },
  {
   "cell_type": "code",
   "execution_count": 50,
   "metadata": {},
   "outputs": [],
   "source": [
    "title_to_paper_file = './Data/Data/title_to_paper_map.json'\n",
    "paper_to_concept_file = './Data/Data/edges/paper_to_concept.csv'\n",
    "concept_nodes_file = './Data/Data/nodes/concept_nodes.csv'\n",
    "\n",
    "# Load the title to paper map\n",
    "with open(title_to_paper_file) as f:\n",
    "    title_to_paper = json.load(f)\n",
    "\n",
    "# convert the json to a pandas dataframe\n",
    "title_to_paper = pd.DataFrame(title_to_paper.items(), columns=['title', 'paper_id'])\n",
    "\n",
    "# Load the concept nodes\n",
    "concept_nodes = pd.read_csv(concept_nodes_file)\n",
    "\n",
    "# Load the paper to concept edges\n",
    "paper_to_concept = pd.read_csv(paper_to_concept_file)"
   ]
  },
  {
   "cell_type": "code",
   "execution_count": 51,
   "metadata": {},
   "outputs": [
    {
     "name": "stdout",
     "output_type": "stream",
     "text": [
      "76804\n"
     ]
    },
    {
     "data": {
      "text/html": [
       "<div>\n",
       "<style scoped>\n",
       "    .dataframe tbody tr th:only-of-type {\n",
       "        vertical-align: middle;\n",
       "    }\n",
       "\n",
       "    .dataframe tbody tr th {\n",
       "        vertical-align: top;\n",
       "    }\n",
       "\n",
       "    .dataframe thead th {\n",
       "        text-align: right;\n",
       "    }\n",
       "</style>\n",
       "<table border=\"1\" class=\"dataframe\">\n",
       "  <thead>\n",
       "    <tr style=\"text-align: right;\">\n",
       "      <th></th>\n",
       "      <th>~id</th>\n",
       "      <th>~label</th>\n",
       "      <th>entity:String</th>\n",
       "      <th>concept:String</th>\n",
       "    </tr>\n",
       "  </thead>\n",
       "  <tbody>\n",
       "    <tr>\n",
       "      <th>0</th>\n",
       "      <td>4a8cc024-1054-48a2-83fb-bc04dbe063da</td>\n",
       "      <td>Concept</td>\n",
       "      <td>dx name</td>\n",
       "      <td>SARS disease</td>\n",
       "    </tr>\n",
       "    <tr>\n",
       "      <th>1</th>\n",
       "      <td>ec39fbd1-445f-4638-9add-280c7176d474</td>\n",
       "      <td>Concept</td>\n",
       "      <td>system organ site</td>\n",
       "      <td>lung</td>\n",
       "    </tr>\n",
       "    <tr>\n",
       "      <th>2</th>\n",
       "      <td>194cc23f-9953-4051-943c-f6cfd7fd10b4</td>\n",
       "      <td>Concept</td>\n",
       "      <td>system organ site</td>\n",
       "      <td>s1 site</td>\n",
       "    </tr>\n",
       "    <tr>\n",
       "      <th>3</th>\n",
       "      <td>f8ac6eaa-0e8f-4e40-be73-e988a4a39f08</td>\n",
       "      <td>Concept</td>\n",
       "      <td>system organ site</td>\n",
       "      <td>hand</td>\n",
       "    </tr>\n",
       "    <tr>\n",
       "      <th>4</th>\n",
       "      <td>034db645-a28e-44a9-9881-c989d3647afb</td>\n",
       "      <td>Concept</td>\n",
       "      <td>system organ site</td>\n",
       "      <td>membrane</td>\n",
       "    </tr>\n",
       "  </tbody>\n",
       "</table>\n",
       "</div>"
      ],
      "text/plain": [
       "                                    ~id   ~label      entity:String  \\\n",
       "0  4a8cc024-1054-48a2-83fb-bc04dbe063da  Concept            dx name   \n",
       "1  ec39fbd1-445f-4638-9add-280c7176d474  Concept  system organ site   \n",
       "2  194cc23f-9953-4051-943c-f6cfd7fd10b4  Concept  system organ site   \n",
       "3  f8ac6eaa-0e8f-4e40-be73-e988a4a39f08  Concept  system organ site   \n",
       "4  034db645-a28e-44a9-9881-c989d3647afb  Concept  system organ site   \n",
       "\n",
       "  concept:String  \n",
       "0   SARS disease  \n",
       "1           lung  \n",
       "2        s1 site  \n",
       "3           hand  \n",
       "4       membrane  "
      ]
     },
     "execution_count": 51,
     "metadata": {},
     "output_type": "execute_result"
    }
   ],
   "source": [
    "print(len(concept_nodes))\n",
    "concept_nodes.head()"
   ]
  },
  {
   "cell_type": "code",
   "execution_count": 52,
   "metadata": {},
   "outputs": [
    {
     "name": "stdout",
     "output_type": "stream",
     "text": [
      "1836969\n"
     ]
    },
    {
     "data": {
      "text/html": [
       "<div>\n",
       "<style scoped>\n",
       "    .dataframe tbody tr th:only-of-type {\n",
       "        vertical-align: middle;\n",
       "    }\n",
       "\n",
       "    .dataframe tbody tr th {\n",
       "        vertical-align: top;\n",
       "    }\n",
       "\n",
       "    .dataframe thead th {\n",
       "        text-align: right;\n",
       "    }\n",
       "</style>\n",
       "<table border=\"1\" class=\"dataframe\">\n",
       "  <thead>\n",
       "    <tr style=\"text-align: right;\">\n",
       "      <th></th>\n",
       "      <th>~id</th>\n",
       "      <th>~label</th>\n",
       "      <th>~from</th>\n",
       "      <th>~to</th>\n",
       "      <th>score:Float</th>\n",
       "    </tr>\n",
       "  </thead>\n",
       "  <tbody>\n",
       "    <tr>\n",
       "      <th>0</th>\n",
       "      <td>cd687ca0-ed29-4ea7-b853-2f099bf7d70d</td>\n",
       "      <td>associated_concept</td>\n",
       "      <td>387120fc-4292-4426-a406-f09a64513255</td>\n",
       "      <td>018d1317-06b0-4326-bf9b-9ac897c23250</td>\n",
       "      <td>0.943973</td>\n",
       "    </tr>\n",
       "    <tr>\n",
       "      <th>1</th>\n",
       "      <td>540ef8f6-dadb-41e8-97cd-43c13fd92a65</td>\n",
       "      <td>associated_concept</td>\n",
       "      <td>f2a54126-f4f8-496a-9933-456aec4bcd1b</td>\n",
       "      <td>ca014ee9-09d6-4af5-b498-0361b660a2a5</td>\n",
       "      <td>0.525614</td>\n",
       "    </tr>\n",
       "    <tr>\n",
       "      <th>2</th>\n",
       "      <td>df193c55-f7a7-4eb2-8c44-e77d1b4e4cf9</td>\n",
       "      <td>associated_concept</td>\n",
       "      <td>f3d0ffd4-1c16-402f-9d18-8333dc4fc45f</td>\n",
       "      <td>e12ea033-d5a8-4bf7-b6ca-f94abcaa23a6</td>\n",
       "      <td>0.911861</td>\n",
       "    </tr>\n",
       "    <tr>\n",
       "      <th>3</th>\n",
       "      <td>2bd93e96-e442-43d7-a41b-9e1125289041</td>\n",
       "      <td>associated_concept</td>\n",
       "      <td>665a4388-fba9-4520-a06a-3a528e3961c3</td>\n",
       "      <td>b3fd0907-dee9-4260-8ece-ac32b685767d</td>\n",
       "      <td>0.688432</td>\n",
       "    </tr>\n",
       "    <tr>\n",
       "      <th>4</th>\n",
       "      <td>f98467c1-dc79-401f-ba00-a7b7c68c07b9</td>\n",
       "      <td>associated_concept</td>\n",
       "      <td>7d18d7fd-532b-4d5d-80ec-d15090a4b751</td>\n",
       "      <td>bdbbfb9e-5a46-41e4-9457-e56f395597ba</td>\n",
       "      <td>0.620543</td>\n",
       "    </tr>\n",
       "  </tbody>\n",
       "</table>\n",
       "</div>"
      ],
      "text/plain": [
       "                                    ~id              ~label  \\\n",
       "0  cd687ca0-ed29-4ea7-b853-2f099bf7d70d  associated_concept   \n",
       "1  540ef8f6-dadb-41e8-97cd-43c13fd92a65  associated_concept   \n",
       "2  df193c55-f7a7-4eb2-8c44-e77d1b4e4cf9  associated_concept   \n",
       "3  2bd93e96-e442-43d7-a41b-9e1125289041  associated_concept   \n",
       "4  f98467c1-dc79-401f-ba00-a7b7c68c07b9  associated_concept   \n",
       "\n",
       "                                  ~from                                   ~to  \\\n",
       "0  387120fc-4292-4426-a406-f09a64513255  018d1317-06b0-4326-bf9b-9ac897c23250   \n",
       "1  f2a54126-f4f8-496a-9933-456aec4bcd1b  ca014ee9-09d6-4af5-b498-0361b660a2a5   \n",
       "2  f3d0ffd4-1c16-402f-9d18-8333dc4fc45f  e12ea033-d5a8-4bf7-b6ca-f94abcaa23a6   \n",
       "3  665a4388-fba9-4520-a06a-3a528e3961c3  b3fd0907-dee9-4260-8ece-ac32b685767d   \n",
       "4  7d18d7fd-532b-4d5d-80ec-d15090a4b751  bdbbfb9e-5a46-41e4-9457-e56f395597ba   \n",
       "\n",
       "   score:Float  \n",
       "0     0.943973  \n",
       "1     0.525614  \n",
       "2     0.911861  \n",
       "3     0.688432  \n",
       "4     0.620543  "
      ]
     },
     "execution_count": 52,
     "metadata": {},
     "output_type": "execute_result"
    }
   ],
   "source": [
    "print(len(paper_to_concept))\n",
    "paper_to_concept.head()"
   ]
  },
  {
   "cell_type": "code",
   "execution_count": 55,
   "metadata": {},
   "outputs": [
    {
     "name": "stdout",
     "output_type": "stream",
     "text": [
      "length of knowledge graph concept: 1783786\n"
     ]
    },
    {
     "name": "stderr",
     "output_type": "stream",
     "text": [
      "100%|██████████| 1783786/1783786 [00:02<00:00, 661769.07it/s]\n"
     ]
    }
   ],
   "source": [
    "knowledge_graph_concept = []\n",
    "\n",
    "for _, row in paper_to_concept.iterrows():\n",
    "    paper_id = row['~from']\n",
    "    concept_id = row['~to']\n",
    "    score = row['score:Float']\n",
    "    \n",
    "    # Get the concept name\n",
    "    matching_rows = concept_nodes[concept_nodes['~id'] == concept_id]['concept:String'].values\n",
    "\n",
    "    if len(matching_rows) > 0:\n",
    "        concept_name = matching_rows[0]\n",
    "    else:\n",
    "        continue\n",
    "\n",
    "    # Get the paper title\n",
    "    matching_rows = title_to_paper[title_to_paper['paper_id'] == paper_id]['title'].values\n",
    "\n",
    "    if len(matching_rows) > 0:\n",
    "        paper_title = matching_rows[0]\n",
    "    else:\n",
    "        continue\n",
    "\n",
    "    # Create a triplet\n",
    "    triplet = (paper_title, f'associated concept with score: {score}', concept_name)\n",
    "    knowledge_graph_concept.append(triplet)\n",
    "\n",
    "print('length of knowledge graph concept: ' + str(len(knowledge_graph_concept)))\n",
    "\n",
    "# write the knowledge graph to a txt file\n",
    "with open('KG_concept.txt', 'w') as f:\n",
    "    for triplet in tqdm(knowledge_graph_concept):\n",
    "        f.write(f'{triplet[0]},{triplet[1]},{triplet[2]}\\n')"
   ]
  },
  {
   "cell_type": "code",
   "execution_count": 54,
   "metadata": {},
   "outputs": [
    {
     "data": {
      "text/plain": [
       "'142031e9-ff52-4ef9-8807-a1c2e4b1e501'"
      ]
     },
     "execution_count": 54,
     "metadata": {},
     "output_type": "execute_result"
    }
   ],
   "source": [
    "concept_id"
   ]
  },
  {
   "cell_type": "markdown",
   "metadata": {},
   "source": [
    "Sentiment analysis"
   ]
  },
  {
   "cell_type": "code",
   "execution_count": 3,
   "metadata": {},
   "outputs": [],
   "source": [
    "import json\n",
    "import os\n",
    "from tqdm import tqdm"
   ]
  },
  {
   "cell_type": "code",
   "execution_count": 4,
   "metadata": {},
   "outputs": [
    {
     "data": {
      "text/plain": [
       "(401212, 315742)"
      ]
     },
     "execution_count": 4,
     "metadata": {},
     "output_type": "execute_result"
    }
   ],
   "source": [
    "pdfs = os.listdir('document_parses/pdf_json')\n",
    "pmcs = os.listdir('document_parses/pmc_json')\n",
    "\n",
    "len(pdfs), len(pmcs)"
   ]
  },
  {
   "cell_type": "code",
   "execution_count": null,
   "metadata": {},
   "outputs": [],
   "source": [
    "for pdf in pdfs:\n",
    "    with open(f'document_parses/pdf_json/{pdf}') as f:\n",
    "        data = json.load(f)\n",
    "        title = data['metadata']['title']\n"
   ]
  },
  {
   "cell_type": "markdown",
   "metadata": {},
   "source": []
  }
 ],
 "metadata": {
  "kernelspec": {
   "display_name": "Python 3",
   "language": "python",
   "name": "python3"
  },
  "language_info": {
   "codemirror_mode": {
    "name": "ipython",
    "version": 3
   },
   "file_extension": ".py",
   "mimetype": "text/x-python",
   "name": "python",
   "nbconvert_exporter": "python",
   "pygments_lexer": "ipython3",
   "version": "3.11.9"
  }
 },
 "nbformat": 4,
 "nbformat_minor": 2
}
